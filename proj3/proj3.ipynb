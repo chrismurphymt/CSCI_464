{
 "cells": [
  {
   "cell_type": "code",
   "execution_count": 3,
   "metadata": {},
   "outputs": [],
   "source": [
    "import numpy as np\n",
    "import pandas as pd\n",
    "import matplotlib.pyplot\n",
    "from google.cloud import bigquery #For BigQu\n",
    "pd.options.display.max_colwidth = 100"
   ]
  },
  {
   "cell_type": "code",
   "execution_count": 4,
   "metadata": {},
   "outputs": [],
   "source": [
    "#\n",
    "def estimate_gigabytes_scanned(query, bq_client):\n",
    "    # see https://cloud.google.com/bigquery/docs/reference/rest/v2/jobs#configuration.dryRun\n",
    "    my_job_config = bigquery.job.QueryJobConfig()\n",
    "    my_job_config.dry_run = True\n",
    "    my_job = bq_client.query(query)\n",
    "\n",
    "    return my_job"
   ]
  },
  {
   "cell_type": "code",
   "execution_count": 5,
   "metadata": {},
   "outputs": [],
   "source": [
    "#Init\n",
    "client = bigquery.Client()\n",
    "\n",
    "hn_dataset_ref = client.dataset('chicago_crime', project='bigquery-public-data')\n",
    "hn_dset = client.get_dataset(hn_dataset_ref)\n",
    "hn_full = client.get_table(hn_dset.table('crime'))"
   ]
  },
  {
   "cell_type": "code",
   "execution_count": 6,
   "metadata": {},
   "outputs": [],
   "source": [
    "accidents_query_2015_all = \"\"\"\n",
    "                           SELECT \n",
    "                               CAST(TIMESTAMP_TRUNC(crime.date, DAY) AS date) AS date, \n",
    "                               COUNT(crime.unique_key) AS crime_count\n",
    "                           FROM \n",
    "                               `bigquery-public-data.chicago_crime.crime` AS crime\n",
    "                           GROUP BY \n",
    "                               date\n",
    "                           ORDER BY \n",
    "                               date;\n",
    "                           \"\"\" "
   ]
  },
  {
   "cell_type": "code",
   "execution_count": 194,
   "metadata": {},
   "outputs": [],
   "source": [
    "accidents_2015 = estimate_gigabytes_scanned(accidents_query_2015_all, client)\n",
    "df15 = accidents_2015.to_dataframe()\n",
    "\n",
    "#\n",
    "# frames = [df15, df16]\n",
    "# results = pd.concat(frames)\n",
    "crime_results = df15\n"
   ]
  },
  {
   "cell_type": "code",
   "execution_count": 16,
   "metadata": {},
   "outputs": [],
   "source": [
    "weather_ds = client.dataset('sample', project='accuweather-com')\n",
    "\n",
    "di_query = \"SELECT * FROM `accuweather-com.sample.sample` LIMIT 1000\"\n",
    "acu_weather = estimate_gigabytes_scanned(di_query, client)\n",
    "df_acu_weather = acu_weather.to_dataframe()\n",
    "df_acu_weather.to_csv(\"acu_weather_date.csv\", index=False)"
   ]
  },
  {
   "cell_type": "code",
   "execution_count": 197,
   "metadata": {},
   "outputs": [],
   "source": [
    "query = \"\"\"\n",
    "SELECT \n",
    " CAST(CONCAT(w.year,'-',w.mo,'-',w.da) AS date) AS date,\n",
    " AVG(w.temp) AS avg_temp,\n",
    " MAX(w.max) AS max_temp,\n",
    " MIN(w.min) AS min_temp\n",
    "FROM        `bigquery-public-data.noaa_gsod.gsod2016`  w\n",
    "INNER JOIN  `bigquery-public-data.noaa_gsod.stations`  s\n",
    " ON w.stn=s.usaf\n",
    " AND w.wban=s.wban\n",
    "WHERE\n",
    " s.country='US'\n",
    " AND s.state = 'NY'\n",
    " AND s.name='CENTRAL PARK'\n",
    "GROUP BY date\n",
    "ORDER BY date\n",
    "\"\"\"\n",
    "\n",
    "basic_query = \"\"\"\n",
    "                SELECT\n",
    "                w.stn,\n",
    "                w.max,\n",
    "w.min,\n",
    "w.prcp,\n",
    "w.dewp\n",
    "                FROM\n",
    "                  `bigquery-public-data.noaa_gsod.gsod2016` AS w\n",
    "                INNER JOIN\n",
    "                   `bigquery-public-data.noaa_gsod.stations` AS s\n",
    "                  ON w.stn = s.usaf\n",
    "                  AND w.wban = s.wban\n",
    "                WHERE\n",
    "                  lat > 41.7\n",
    "                  AND lat < 42\n",
    "                  AND lon > -87.7\n",
    "                  AND lon < -87.5\n",
    "\n",
    "                \"\"\"\n",
    "\n",
    "ugh = \"\"\"\n",
    "SELECT * FROM `bigquery-public-data.noaa_gsod.gsod2016` AS w WHERE w.stn = '998497'\"\"\"\n",
    "frames = []\n",
    "\n",
    "for i in range(2001,2019):\n",
    "\n",
    "    weather_query = \"\"\"\n",
    "                SELECT\n",
    "                  CAST(CONCAT(w.year,'-',w.mo,'-',w.da) AS date) AS date,\n",
    "                    AVG(w.temp) AS avg_temp,\n",
    "                     AVG(w.max) AS max_temp,\n",
    "                     AVG(w.min) AS min_temp,\n",
    "                     AVG(CAST(w.wdsp AS FLOAT64)) AS mean_wind_speed,\n",
    "                     AVG(CAST(w.mxpsd AS FLOAT64)) AS max_sus_wind_speed\n",
    "                FROM\n",
    "                  `bigquery-public-data.noaa_gsod.gsod\"\"\" + str(i) + \"\"\"` AS w\n",
    "                INNER JOIN\n",
    "                   `bigquery-public-data.noaa_gsod.stations` AS s\n",
    "                  ON w.stn = s.usaf\n",
    "                  AND w.wban = s.wban\n",
    "                WHERE\n",
    "                  lat > 41.7\n",
    "                  AND lat < 42\n",
    "                  AND lon > -87.7\n",
    "                  AND lon < -87.5\n",
    "                GROUP BY date\n",
    "                ORDER BY date;\n",
    "                \"\"\"\n",
    "    chicago_weather = estimate_gigabytes_scanned(weather_query, client)\n",
    "    dfweather = chicago_weather.to_dataframe()\n",
    "    frames.append(dfweather)\n",
    "\n",
    "    "
   ]
  },
  {
   "cell_type": "code",
   "execution_count": 198,
   "metadata": {},
   "outputs": [],
   "source": [
    "results = pd.concat(frames)\n",
    "#final_df = final_df.set_index('DateAndTime')\n",
    "# frames = [df15, df16]\n",
    "\n",
    "results = results.set_index('date')\n",
    "crime_results = crime_results.set_index('date')\n",
    "\n",
    "\n",
    "# results = dfweather\n",
    "results.replace('\\\\n',' ', regex=True, inplace=True)\n",
    "results.to_csv(\"weather_date.csv\", index=False)"
   ]
  },
  {
   "cell_type": "code",
   "execution_count": 202,
   "metadata": {},
   "outputs": [],
   "source": [
    "final_frames = [results, crime_results]\n",
    "\n",
    "merge=pd.concat(final_frames, axis=1, sort=True)\n",
    "\n",
    "\n",
    "merge.to_csv(\"all_crime_weather.csv\")"
   ]
  },
  {
   "cell_type": "code",
   "execution_count": null,
   "metadata": {},
   "outputs": [],
   "source": [
    "#clean up those pesky newline chars that have plaged me so.\n",
    "\n",
    "from IPython.display import display\n",
    "display(df15)"
   ]
  },
  {
   "cell_type": "code",
   "execution_count": 195,
   "metadata": {},
   "outputs": [],
   "source": [
    "#hundy = results.sample(n=100000)\n",
    "\n",
    "crime_results.replace('\\\\n',' ', regex=True, inplace=True)\n",
    "crime_results.to_csv(\"crime_date.csv\", index=False)\n"
   ]
  }
 ],
 "metadata": {
  "kernelspec": {
   "display_name": "Python 3",
   "language": "python",
   "name": "python3"
  },
  "language_info": {
   "codemirror_mode": {
    "name": "ipython",
    "version": 3
   },
   "file_extension": ".py",
   "mimetype": "text/x-python",
   "name": "python",
   "nbconvert_exporter": "python",
   "pygments_lexer": "ipython3",
   "version": "3.6.7"
  }
 },
 "nbformat": 4,
 "nbformat_minor": 2
}
