{
 "cells": [
  {
   "cell_type": "code",
   "execution_count": 2,
   "metadata": {},
   "outputs": [],
   "source": [
    "\n",
    "import numpy as np\n",
    "import pandas as pd\n",
    "import matplotlib.pyplot\n",
    "from google.cloud import bigquery #For BigQu\n",
    "pd.options.display.max_colwidth = 100"
   ]
  },
  {
   "cell_type": "code",
   "execution_count": 3,
   "metadata": {},
   "outputs": [],
   "source": [
    "#\n",
    "def estimate_gigabytes_scanned(query, bq_client):\n",
    "    # see https://cloud.google.com/bigquery/docs/reference/rest/v2/jobs#configuration.dryRun\n",
    "    my_job_config = bigquery.job.QueryJobConfig()\n",
    "    my_job_config.dry_run = True\n",
    "    my_job = bq_client.query(query)\n",
    "\n",
    "    return my_job"
   ]
  },
  {
   "cell_type": "code",
   "execution_count": 4,
   "metadata": {},
   "outputs": [],
   "source": [
    "#Init\n",
    "client = bigquery.Client()\n",
    "\n",
    "hn_dataset_ref = client.dataset('nhtsa_traffic_fatalities', project='bigquery-public-data')\n",
    "hn_dset = client.get_dataset(hn_dataset_ref)\n",
    "hn_full = client.get_table(hn_dset.table('accident_2015'))"
   ]
  },
  {
   "cell_type": "code",
   "execution_count": 15,
   "metadata": {},
   "outputs": [],
   "source": [
    "fifteen = 15\n",
    "accidents_query_2015_all = \"\"\"SELECT DISTINCT\n",
    "                                acc15.consecutive_number,\n",
    "                                month_of_crash,\n",
    "                                 day_of_week,\n",
    "                                 hour_of_crash,\n",
    "                                 manner_of_collision_name,\n",
    "                                 light_condition_name,\n",
    "                                 land_use_name,\n",
    "                                 latitude,\n",
    "                                 longitude,\n",
    "                                 atmospheric_conditions_1_name,\n",
    "                                 driver_maneuvered_to_avoid_name,\n",
    "                                 drivers_vision_obscured_by_name,\n",
    "                                 number_of_drunk_drivers,\n",
    "                                 sequence_of_events_name,\n",
    "                                 area_of_Impact_associated_with_the_event_name,\n",
    "                                 number_of_fatalities\n",
    "                          FROM `bigquery-public-data.nhtsa_traffic_fatalities.accident_2015` AS acc15\n",
    "                          JOIN `bigquery-public-data.nhtsa_traffic_fatalities.maneuver_2015` AS man15\n",
    "                          ON acc15.consecutive_number = man15.consecutive_number\n",
    "                          JOIN `bigquery-public-data.nhtsa_traffic_fatalities.vision_2015` AS vis15\n",
    "                          ON acc15.consecutive_number = vis15.consecutive_number\n",
    "                          JOIN `bigquery-public-data.nhtsa_traffic_fatalities.vsoe_2015` AS vseo15\n",
    "                          ON acc15.consecutive_number = vseo15.consecutive_number\n",
    "                          WHERE longitude < 0\n",
    "                          AND longitude > -140\n",
    "                      \"\"\" \n",
    "\n",
    "accidents_query_2016_all = \"\"\"SELECT DISTINCT\n",
    "                                 acc16.consecutive_number,\n",
    "                                month_of_crash,\n",
    "                                 day_of_week,\n",
    "                                 hour_of_crash,\n",
    "                                 manner_of_collision_name,\n",
    "                                 light_condition_name,\n",
    "                                 land_use_name,\n",
    "                                 latitude,\n",
    "                                 longitude,\n",
    "                                 atmospheric_conditions_1_name,\n",
    "                                 driver_maneuvered_to_avoid_name,\n",
    "                                 drivers_vision_obscured_by_name,\n",
    "                                 number_of_drunk_drivers,\n",
    "                                 sequence_of_events_name,\n",
    "                                 area_of_Impact_associated_with_the_event_name,\n",
    "                                 number_of_fatalities\n",
    "                          FROM `bigquery-public-data.nhtsa_traffic_fatalities.accident_2016` AS acc16\n",
    "                          JOIN `bigquery-public-data.nhtsa_traffic_fatalities.maneuver_2016` AS man16\n",
    "                          ON acc16.consecutive_number = man16.consecutive_number\n",
    "                          JOIN `bigquery-public-data.nhtsa_traffic_fatalities.vision_2016` AS vis16\n",
    "                          ON acc16.consecutive_number = vis16.consecutive_number\n",
    "                          JOIN `bigquery-public-data.nhtsa_traffic_fatalities.vsoe_2016` AS vsoe16\n",
    "                          ON acc16.consecutive_number = vsoe16.consecutive_number\n",
    "                          WHERE longitude < 0\n",
    "                          AND longitude > -140\n",
    "                      \"\"\" \n"
   ]
  },
  {
   "cell_type": "code",
   "execution_count": 16,
   "metadata": {},
   "outputs": [],
   "source": [
    "accidents_2015 = estimate_gigabytes_scanned(accidents_query_2015_all, client)\n",
    "accidents_2016 = estimate_gigabytes_scanned(accidents_query_2016_all, client)"
   ]
  },
  {
   "cell_type": "code",
   "execution_count": 17,
   "metadata": {},
   "outputs": [],
   "source": [
    "df15 = accidents_2015.to_dataframe()\n",
    "df16 = accidents_2016.to_dataframe()\n",
    "#\n",
    "frames = [df15, df16]\n",
    "results = pd.concat(frames)\n",
    "# results = df15\n"
   ]
  },
  {
   "cell_type": "code",
   "execution_count": 18,
   "metadata": {},
   "outputs": [],
   "source": [
    "#clean up those pesky newline chars that have plaged me so.\n",
    "results.replace('\\\\n',' ', regex=True, inplace=True)\n"
   ]
  },
  {
   "cell_type": "code",
   "execution_count": 19,
   "metadata": {},
   "outputs": [],
   "source": [
    "#hundy = results.sample(n=100000)\n",
    "results.to_csv(\"hightway_fatals_no.csv\", index=False)\n"
   ]
  }
 ],
 "metadata": {
  "kernelspec": {
   "display_name": "Python 3",
   "language": "python",
   "name": "python3"
  },
  "language_info": {
   "codemirror_mode": {
    "name": "ipython",
    "version": 3
   },
   "file_extension": ".py",
   "mimetype": "text/x-python",
   "name": "python",
   "nbconvert_exporter": "python",
   "pygments_lexer": "ipython3",
   "version": "3.6.7"
  }
 },
 "nbformat": 4,
 "nbformat_minor": 2
}
