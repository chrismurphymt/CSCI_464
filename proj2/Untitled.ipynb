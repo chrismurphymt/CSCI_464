{
 "cells": [
  {
   "cell_type": "code",
   "execution_count": 4,
   "metadata": {},
   "outputs": [],
   "source": [
    "from google.cloud import bigquery\n",
    "import pandas as pd\n",
    "\n",
    "client = bigquery.Client()\n",
    "hn_dataset_ref = client.dataset('cms_medicare', project='bigquery-public-data')\n",
    "\n",
    "hn_dset = client.get_dataset(hn_dataset_ref)\n",
    "\n",
    "hn_full = client.get_table(hn_dset.table('hospital_general_info'))"
   ]
  },
  {
   "cell_type": "code",
   "execution_count": 2,
   "metadata": {},
   "outputs": [],
   "source": [
    "def estimate_gigabytes_scanned(query, bq_client):\n",
    "    # see https://cloud.google.com/bigquery/docs/reference/rest/v2/jobs#configuration.dryRun\n",
    "    my_job_config = bigquery.job.QueryJobConfig()\n",
    "    my_job_config.dry_run = True\n",
    "    my_job = bq_client.query(query)\n",
    "    return my_job\n",
    "\n",
    "def create_query_string(year):\n",
    "\n",
    "    query = \"SELECT zip_code, hospital_type, hospital_ownership, emergency_services, hospital_overall_rating, mortality_national_comparison,readmission_national_comparison, patient_experience_national_comparison, effectiveness_of_care_national_comparison, efficient_use_of_medical_imaging_national_comparison, drg_definition, total_discharges, average_covered_charges, average_total_payments, average_medicare_payments FROM `bigquery-public-data.cms_medicare.inpatient_charges_\" + year + \"` as inpatient_2011 JOIN `bigquery-public-data.cms_medicare.hospital_general_info` as hos_gen ON hos_gen.provider_id = inpatient_2011.provider_id\"\n",
    "    return query"
   ]
  },
  {
   "cell_type": "code",
   "execution_count": 3,
   "metadata": {},
   "outputs": [],
   "source": [
    "twenty11 = estimate_gigabytes_scanned(create_query_string(\"2011\"), client)\n",
    "twenty12 = estimate_gigabytes_scanned(create_query_string(\"2012\"), client)\n",
    "twenty13 = estimate_gigabytes_scanned(create_query_string(\"2013\"), client)\n",
    "twenty14 = estimate_gigabytes_scanned(create_query_string(\"2014\"), client)\n",
    "twenty15 = estimate_gigabytes_scanned(create_query_string(\"2015\"), client)\n",
    "\n",
    "df1 = twenty11.to_dataframe()\n",
    "df2 = twenty12.to_dataframe()\n",
    "df3 = twenty13.to_dataframe()\n",
    "df4 = twenty14.to_dataframe()\n",
    "df5 = twenty15.to_dataframe()\n"
   ]
  },
  {
   "cell_type": "code",
   "execution_count": 10,
   "metadata": {},
   "outputs": [],
   "source": [
    "frames = [df1, df2, df3, df4, df5]\n",
    "\n",
    "results = pd.concat(frames)\n",
    "hundy = results.sample(n=100000)\n",
    "# result.to_csv(\"hospital\")\n",
    "hundy.to_csv(\"hospital_better.cvs\")\n"
   ]
  },
  {
   "cell_type": "code",
   "execution_count": 12,
   "metadata": {},
   "outputs": [],
   "source": [
    "from sklearn.preprocessing import OneHotEncoder"
   ]
  },
  {
   "cell_type": "code",
   "execution_count": 16,
   "metadata": {},
   "outputs": [
    {
     "name": "stdout",
     "output_type": "stream",
     "text": [
      "[[0. 0. 0. ... 0. 0. 1.]\n",
      " [0. 0. 0. ... 1. 0. 0.]\n",
      " [0. 0. 0. ... 0. 0. 0.]\n",
      " ...\n",
      " [0. 0. 0. ... 0. 0. 0.]\n",
      " [0. 0. 0. ... 0. 0. 1.]\n",
      " [0. 0. 0. ... 0. 1. 0.]]\n"
     ]
    }
   ],
   "source": [
    "hundy_train = hundy[['hospital_ownership']].copy()\n",
    "ohe = OneHotEncoder(sparse=False)\n",
    "hundy_train_transformed = ohe.fit_transform(hundy_train)\n",
    "print(hundy_train_transformed)"
   ]
  },
  {
   "cell_type": "code",
   "execution_count": 18,
   "metadata": {},
   "outputs": [
    {
     "name": "stdout",
     "output_type": "stream",
     "text": [
      "['x0_Government - Federal'\n",
      " 'x0_Government - Hospital District or Authority' 'x0_Government - Local'\n",
      " 'x0_Government - State' 'x0_Physician' 'x0_Proprietary' 'x0_Tribal'\n",
      " 'x0_Voluntary non-profit - Church' 'x0_Voluntary non-profit - Other'\n",
      " 'x0_Voluntary non-profit - Private']\n"
     ]
    }
   ],
   "source": [
    "print(ohe.get_feature_names())"
   ]
  },
  {
   "cell_type": "code",
   "execution_count": 22,
   "metadata": {},
   "outputs": [
    {
     "data": {
      "text/plain": [
       "array([0., 0., 0., 0., 0., 1., 0., 0., 0., 0.])"
      ]
     },
     "execution_count": 22,
     "metadata": {},
     "output_type": "execute_result"
    }
   ],
   "source": [
    "row0 = hundy_train_transformed[2]\n",
    "row0"
   ]
  },
  {
   "cell_type": "code",
   "execution_count": null,
   "metadata": {},
   "outputs": [],
   "source": []
  }
 ],
 "metadata": {
  "kernelspec": {
   "display_name": "Python 3",
   "language": "python",
   "name": "python3"
  },
  "language_info": {
   "codemirror_mode": {
    "name": "ipython",
    "version": 3
   },
   "file_extension": ".py",
   "mimetype": "text/x-python",
   "name": "python",
   "nbconvert_exporter": "python",
   "pygments_lexer": "ipython3",
   "version": "3.6.7"
  }
 },
 "nbformat": 4,
 "nbformat_minor": 2
}
